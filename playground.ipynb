{
 "cells": [
  {
   "cell_type": "code",
   "execution_count": 18,
   "metadata": {},
   "outputs": [
    {
     "data": {
      "text/plain": [
       "(0, 3)"
      ]
     },
     "execution_count": 18,
     "metadata": {},
     "output_type": "execute_result"
    }
   ],
   "source": [
    "from scipy.stats import multinomial, dirichlet\n",
    "import numpy as np\n",
    "\n",
    "alpha0 = [20,30]\n",
    "alpha1 = [10,20,30,20,15]\n",
    "alpha2 = [20,15,15,25,30]\n",
    "topic_p = dirichlet(alpha0).rvs(1)[0]\n",
    "word_p1 = dirichlet(alpha1).rvs(1)[0]\n",
    "word_p2 = dirichlet(alpha2).rvs(1)[0]\n",
    "\n",
    "topic = np.argmax(multinomial.rvs(1, topic_p))\n",
    "word = np.argmax(multinomial.rvs(1, [word_p1, word_p2][topic])) + 5*topic\n",
    "topic, word"
   ]
  },
  {
   "cell_type": "code",
   "execution_count": 11,
   "metadata": {},
   "outputs": [
    {
     "data": {
      "text/plain": [
       "(1, 5)"
      ]
     },
     "execution_count": 11,
     "metadata": {},
     "output_type": "execute_result"
    }
   ],
   "source": []
  },
  {
   "cell_type": "code",
   "execution_count": null,
   "metadata": {},
   "outputs": [],
   "source": []
  }
 ],
 "metadata": {
  "kernelspec": {
   "display_name": "datascience",
   "language": "python",
   "name": "python3"
  },
  "language_info": {
   "codemirror_mode": {
    "name": "ipython",
    "version": 3
   },
   "file_extension": ".py",
   "mimetype": "text/x-python",
   "name": "python",
   "nbconvert_exporter": "python",
   "pygments_lexer": "ipython3",
   "version": "3.8.13"
  },
  "orig_nbformat": 4
 },
 "nbformat": 4,
 "nbformat_minor": 2
}
